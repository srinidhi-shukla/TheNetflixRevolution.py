{
  "nbformat": 4,
  "nbformat_minor": 0,
  "metadata": {
    "colab": {
      "name": "Assignment_8.ipynb",
      "provenance": []
    },
    "kernelspec": {
      "display_name": "Python 3",
      "language": "python",
      "name": "python3"
    },
    "language_info": {
      "codemirror_mode": {
        "name": "ipython",
        "version": 3
      },
      "file_extension": ".py",
      "mimetype": "text/x-python",
      "name": "python",
      "nbconvert_exporter": "python",
      "pygments_lexer": "ipython3",
      "version": "3.7.4"
    }
  },
  "cells": [
    {
      "cell_type": "code",
      "metadata": {
        "colab_type": "code",
        "id": "uAkL7EZCnRtm",
        "outputId": "7ed7b289-30aa-48b2-c7bf-1db1de1372d7",
        "colab": {
          "base_uri": "https://localhost:8080/",
          "height": 71
        }
      },
      "source": [
        "import numpy as np\n",
        "import pandas as pd\n",
        "from pandas import Series, DataFrame\n",
        "import matplotlib.pyplot as plt\n",
        "import seaborn as sns\n",
        "\n",
        "from sklearn.neighbors import KNeighborsClassifier\n",
        "from sklearn.metrics import accuracy_score\n",
        "from sklearn.model_selection import GridSearchCV\n",
        "plt.style.use('ggplot')\n",
        "%matplotlib inline"
      ],
      "execution_count": 1,
      "outputs": [
        {
          "output_type": "stream",
          "text": [
            "/usr/local/lib/python3.6/dist-packages/statsmodels/tools/_testing.py:19: FutureWarning: pandas.util.testing is deprecated. Use the functions in the public API at pandas.testing instead.\n",
            "  import pandas.util.testing as tm\n"
          ],
          "name": "stderr"
        }
      ]
    },
    {
      "cell_type": "code",
      "metadata": {
        "colab_type": "code",
        "id": "QlwR5LfPnb-E",
        "outputId": "f1887260-2c7c-4525-9362-c96884cc78ff",
        "colab": {
          "base_uri": "https://localhost:8080/",
          "height": 34
        }
      },
      "source": [
        "Netflix=pd.read_csv('HistoricalPrices (1).csv')\n",
        "Netflix.shape"
      ],
      "execution_count": 2,
      "outputs": [
        {
          "output_type": "execute_result",
          "data": {
            "text/plain": [
              "(2600, 6)"
            ]
          },
          "metadata": {
            "tags": []
          },
          "execution_count": 2
        }
      ]
    },
    {
      "cell_type": "code",
      "metadata": {
        "colab_type": "code",
        "id": "WXNtgRtJngo7",
        "outputId": "8bc5322e-5f83-4207-804f-296de71a18df",
        "colab": {
          "base_uri": "https://localhost:8080/",
          "height": 204
        }
      },
      "source": [
        "Netflix.head()"
      ],
      "execution_count": 3,
      "outputs": [
        {
          "output_type": "execute_result",
          "data": {
            "text/html": [
              "<div>\n",
              "<style scoped>\n",
              "    .dataframe tbody tr th:only-of-type {\n",
              "        vertical-align: middle;\n",
              "    }\n",
              "\n",
              "    .dataframe tbody tr th {\n",
              "        vertical-align: top;\n",
              "    }\n",
              "\n",
              "    .dataframe thead th {\n",
              "        text-align: right;\n",
              "    }\n",
              "</style>\n",
              "<table border=\"1\" class=\"dataframe\">\n",
              "  <thead>\n",
              "    <tr style=\"text-align: right;\">\n",
              "      <th></th>\n",
              "      <th>Date</th>\n",
              "      <th>Open</th>\n",
              "      <th>High</th>\n",
              "      <th>Low</th>\n",
              "      <th>Close</th>\n",
              "      <th>Volume</th>\n",
              "    </tr>\n",
              "  </thead>\n",
              "  <tbody>\n",
              "    <tr>\n",
              "      <th>0</th>\n",
              "      <td>05/01/20</td>\n",
              "      <td>415.10</td>\n",
              "      <td>427.97</td>\n",
              "      <td>411.7300</td>\n",
              "      <td>415.27</td>\n",
              "      <td>8299858.0</td>\n",
              "    </tr>\n",
              "    <tr>\n",
              "      <th>1</th>\n",
              "      <td>04/30/20</td>\n",
              "      <td>410.31</td>\n",
              "      <td>424.44</td>\n",
              "      <td>408.0000</td>\n",
              "      <td>419.85</td>\n",
              "      <td>7953975.0</td>\n",
              "    </tr>\n",
              "    <tr>\n",
              "      <th>2</th>\n",
              "      <td>04/29/20</td>\n",
              "      <td>399.53</td>\n",
              "      <td>415.86</td>\n",
              "      <td>393.6000</td>\n",
              "      <td>411.89</td>\n",
              "      <td>9693137.0</td>\n",
              "    </tr>\n",
              "    <tr>\n",
              "      <th>3</th>\n",
              "      <td>04/28/20</td>\n",
              "      <td>419.99</td>\n",
              "      <td>421.00</td>\n",
              "      <td>402.9101</td>\n",
              "      <td>403.83</td>\n",
              "      <td>10101230.0</td>\n",
              "    </tr>\n",
              "    <tr>\n",
              "      <th>4</th>\n",
              "      <td>04/27/20</td>\n",
              "      <td>425.00</td>\n",
              "      <td>429.00</td>\n",
              "      <td>420.8400</td>\n",
              "      <td>421.38</td>\n",
              "      <td>6277480.0</td>\n",
              "    </tr>\n",
              "  </tbody>\n",
              "</table>\n",
              "</div>"
            ],
            "text/plain": [
              "       Date    Open    High       Low   Close      Volume\n",
              "0  05/01/20  415.10  427.97  411.7300  415.27   8299858.0\n",
              "1  04/30/20  410.31  424.44  408.0000  419.85   7953975.0\n",
              "2  04/29/20  399.53  415.86  393.6000  411.89   9693137.0\n",
              "3  04/28/20  419.99  421.00  402.9101  403.83  10101230.0\n",
              "4  04/27/20  425.00  429.00  420.8400  421.38   6277480.0"
            ]
          },
          "metadata": {
            "tags": []
          },
          "execution_count": 3
        }
      ]
    },
    {
      "cell_type": "code",
      "metadata": {
        "colab_type": "code",
        "id": "wxyHm559nher",
        "outputId": "a457bc37-8549-4f3f-a45e-7abfb09e638b",
        "colab": {
          "base_uri": "https://localhost:8080/",
          "height": 297
        }
      },
      "source": [
        "Netflix.describe()"
      ],
      "execution_count": 4,
      "outputs": [
        {
          "output_type": "execute_result",
          "data": {
            "text/html": [
              "<div>\n",
              "<style scoped>\n",
              "    .dataframe tbody tr th:only-of-type {\n",
              "        vertical-align: middle;\n",
              "    }\n",
              "\n",
              "    .dataframe tbody tr th {\n",
              "        vertical-align: top;\n",
              "    }\n",
              "\n",
              "    .dataframe thead th {\n",
              "        text-align: right;\n",
              "    }\n",
              "</style>\n",
              "<table border=\"1\" class=\"dataframe\">\n",
              "  <thead>\n",
              "    <tr style=\"text-align: right;\">\n",
              "      <th></th>\n",
              "      <th>Open</th>\n",
              "      <th>High</th>\n",
              "      <th>Low</th>\n",
              "      <th>Close</th>\n",
              "      <th>Volume</th>\n",
              "    </tr>\n",
              "  </thead>\n",
              "  <tbody>\n",
              "    <tr>\n",
              "      <th>count</th>\n",
              "      <td>2600.000000</td>\n",
              "      <td>2600.000000</td>\n",
              "      <td>2600.000000</td>\n",
              "      <td>2600.000000</td>\n",
              "      <td>2.600000e+03</td>\n",
              "    </tr>\n",
              "    <tr>\n",
              "      <th>mean</th>\n",
              "      <td>123.699440</td>\n",
              "      <td>125.658750</td>\n",
              "      <td>121.676260</td>\n",
              "      <td>123.747980</td>\n",
              "      <td>2.135381e+07</td>\n",
              "    </tr>\n",
              "    <tr>\n",
              "      <th>std</th>\n",
              "      <td>122.073901</td>\n",
              "      <td>124.015062</td>\n",
              "      <td>120.042878</td>\n",
              "      <td>122.102879</td>\n",
              "      <td>2.176580e+07</td>\n",
              "    </tr>\n",
              "    <tr>\n",
              "      <th>min</th>\n",
              "      <td>6.960000</td>\n",
              "      <td>7.178600</td>\n",
              "      <td>6.931400</td>\n",
              "      <td>7.018600</td>\n",
              "      <td>1.616260e+06</td>\n",
              "    </tr>\n",
              "    <tr>\n",
              "      <th>25%</th>\n",
              "      <td>27.053700</td>\n",
              "      <td>27.492550</td>\n",
              "      <td>26.606800</td>\n",
              "      <td>27.026425</td>\n",
              "      <td>8.374366e+06</td>\n",
              "    </tr>\n",
              "    <tr>\n",
              "      <th>50%</th>\n",
              "      <td>67.400750</td>\n",
              "      <td>68.045700</td>\n",
              "      <td>66.727900</td>\n",
              "      <td>67.467150</td>\n",
              "      <td>1.515516e+07</td>\n",
              "    </tr>\n",
              "    <tr>\n",
              "      <th>75%</th>\n",
              "      <td>185.867500</td>\n",
              "      <td>188.110000</td>\n",
              "      <td>183.205000</td>\n",
              "      <td>185.552500</td>\n",
              "      <td>2.665550e+07</td>\n",
              "    </tr>\n",
              "    <tr>\n",
              "      <th>max</th>\n",
              "      <td>444.770000</td>\n",
              "      <td>449.520000</td>\n",
              "      <td>431.610000</td>\n",
              "      <td>439.170000</td>\n",
              "      <td>3.155412e+08</td>\n",
              "    </tr>\n",
              "  </tbody>\n",
              "</table>\n",
              "</div>"
            ],
            "text/plain": [
              "              Open         High          Low        Close        Volume\n",
              "count  2600.000000  2600.000000  2600.000000  2600.000000  2.600000e+03\n",
              "mean    123.699440   125.658750   121.676260   123.747980  2.135381e+07\n",
              "std     122.073901   124.015062   120.042878   122.102879  2.176580e+07\n",
              "min       6.960000     7.178600     6.931400     7.018600  1.616260e+06\n",
              "25%      27.053700    27.492550    26.606800    27.026425  8.374366e+06\n",
              "50%      67.400750    68.045700    66.727900    67.467150  1.515516e+07\n",
              "75%     185.867500   188.110000   183.205000   185.552500  2.665550e+07\n",
              "max     444.770000   449.520000   431.610000   439.170000  3.155412e+08"
            ]
          },
          "metadata": {
            "tags": []
          },
          "execution_count": 4
        }
      ]
    },
    {
      "cell_type": "code",
      "metadata": {
        "colab_type": "code",
        "id": "Avg9b2GMnkI0",
        "outputId": "0e13ede3-a413-4bf4-93f0-9bb15b89a071",
        "colab": {
          "base_uri": "https://localhost:8080/",
          "height": 136
        }
      },
      "source": [
        "Netflix.isnull().sum()"
      ],
      "execution_count": 5,
      "outputs": [
        {
          "output_type": "execute_result",
          "data": {
            "text/plain": [
              "Date       0\n",
              " Open      0\n",
              " High      0\n",
              " Low       0\n",
              " Close     0\n",
              " Volume    0\n",
              "dtype: int64"
            ]
          },
          "metadata": {
            "tags": []
          },
          "execution_count": 5
        }
      ]
    },
    {
      "cell_type": "code",
      "metadata": {
        "colab_type": "code",
        "id": "FHDEUp5knmzO",
        "outputId": "b16c7f6e-dd4c-44f9-9b09-795534eac7ec",
        "colab": {
          "base_uri": "https://localhost:8080/",
          "height": 136
        }
      },
      "source": [
        "Netflix.dtypes"
      ],
      "execution_count": 6,
      "outputs": [
        {
          "output_type": "execute_result",
          "data": {
            "text/plain": [
              "Date        object\n",
              " Open      float64\n",
              " High      float64\n",
              " Low       float64\n",
              " Close     float64\n",
              " Volume    float64\n",
              "dtype: object"
            ]
          },
          "metadata": {
            "tags": []
          },
          "execution_count": 6
        }
      ]
    },
    {
      "cell_type": "code",
      "metadata": {
        "colab_type": "code",
        "id": "zwlXWqSxnrUf",
        "outputId": "610e11c8-3892-47fc-9131-3682491f6231",
        "colab": {
          "base_uri": "https://localhost:8080/",
          "height": 153
        }
      },
      "source": [
        "Netflix['Date_f']=pd.to_datetime(Netflix['Date'])\n",
        "Netflix.dtypes"
      ],
      "execution_count": 7,
      "outputs": [
        {
          "output_type": "execute_result",
          "data": {
            "text/plain": [
              "Date               object\n",
              " Open             float64\n",
              " High             float64\n",
              " Low              float64\n",
              " Close            float64\n",
              " Volume           float64\n",
              "Date_f     datetime64[ns]\n",
              "dtype: object"
            ]
          },
          "metadata": {
            "tags": []
          },
          "execution_count": 7
        }
      ]
    },
    {
      "cell_type": "code",
      "metadata": {
        "colab_type": "code",
        "id": "BiLbbVJaH3WF",
        "outputId": "8313fe32-4388-4597-94bc-0a38d4096dad",
        "colab": {
          "base_uri": "https://localhost:8080/",
          "height": 419
        }
      },
      "source": [
        "Netflix.sort_values(by='Date_f',ascending=False)"
      ],
      "execution_count": 8,
      "outputs": [
        {
          "output_type": "execute_result",
          "data": {
            "text/html": [
              "<div>\n",
              "<style scoped>\n",
              "    .dataframe tbody tr th:only-of-type {\n",
              "        vertical-align: middle;\n",
              "    }\n",
              "\n",
              "    .dataframe tbody tr th {\n",
              "        vertical-align: top;\n",
              "    }\n",
              "\n",
              "    .dataframe thead th {\n",
              "        text-align: right;\n",
              "    }\n",
              "</style>\n",
              "<table border=\"1\" class=\"dataframe\">\n",
              "  <thead>\n",
              "    <tr style=\"text-align: right;\">\n",
              "      <th></th>\n",
              "      <th>Date</th>\n",
              "      <th>Open</th>\n",
              "      <th>High</th>\n",
              "      <th>Low</th>\n",
              "      <th>Close</th>\n",
              "      <th>Volume</th>\n",
              "      <th>Date_f</th>\n",
              "    </tr>\n",
              "  </thead>\n",
              "  <tbody>\n",
              "    <tr>\n",
              "      <th>0</th>\n",
              "      <td>05/01/20</td>\n",
              "      <td>415.1000</td>\n",
              "      <td>427.9700</td>\n",
              "      <td>411.7300</td>\n",
              "      <td>415.2700</td>\n",
              "      <td>8.299858e+06</td>\n",
              "      <td>2020-05-01</td>\n",
              "    </tr>\n",
              "    <tr>\n",
              "      <th>1</th>\n",
              "      <td>04/30/20</td>\n",
              "      <td>410.3100</td>\n",
              "      <td>424.4400</td>\n",
              "      <td>408.0000</td>\n",
              "      <td>419.8500</td>\n",
              "      <td>7.953975e+06</td>\n",
              "      <td>2020-04-30</td>\n",
              "    </tr>\n",
              "    <tr>\n",
              "      <th>2</th>\n",
              "      <td>04/29/20</td>\n",
              "      <td>399.5300</td>\n",
              "      <td>415.8600</td>\n",
              "      <td>393.6000</td>\n",
              "      <td>411.8900</td>\n",
              "      <td>9.693137e+06</td>\n",
              "      <td>2020-04-29</td>\n",
              "    </tr>\n",
              "    <tr>\n",
              "      <th>3</th>\n",
              "      <td>04/28/20</td>\n",
              "      <td>419.9900</td>\n",
              "      <td>421.0000</td>\n",
              "      <td>402.9101</td>\n",
              "      <td>403.8300</td>\n",
              "      <td>1.010123e+07</td>\n",
              "      <td>2020-04-28</td>\n",
              "    </tr>\n",
              "    <tr>\n",
              "      <th>4</th>\n",
              "      <td>04/27/20</td>\n",
              "      <td>425.0000</td>\n",
              "      <td>429.0000</td>\n",
              "      <td>420.8400</td>\n",
              "      <td>421.3800</td>\n",
              "      <td>6.277480e+06</td>\n",
              "      <td>2020-04-27</td>\n",
              "    </tr>\n",
              "    <tr>\n",
              "      <th>...</th>\n",
              "      <td>...</td>\n",
              "      <td>...</td>\n",
              "      <td>...</td>\n",
              "      <td>...</td>\n",
              "      <td>...</td>\n",
              "      <td>...</td>\n",
              "      <td>...</td>\n",
              "    </tr>\n",
              "    <tr>\n",
              "      <th>2595</th>\n",
              "      <td>01/08/10</td>\n",
              "      <td>7.4986</td>\n",
              "      <td>7.7429</td>\n",
              "      <td>7.4657</td>\n",
              "      <td>7.6143</td>\n",
              "      <td>8.180697e+06</td>\n",
              "      <td>2010-01-08</td>\n",
              "    </tr>\n",
              "    <tr>\n",
              "      <th>2596</th>\n",
              "      <td>01/07/10</td>\n",
              "      <td>7.7314</td>\n",
              "      <td>7.7571</td>\n",
              "      <td>7.4629</td>\n",
              "      <td>7.4857</td>\n",
              "      <td>9.955204e+06</td>\n",
              "      <td>2010-01-07</td>\n",
              "    </tr>\n",
              "    <tr>\n",
              "      <th>2597</th>\n",
              "      <td>01/06/10</td>\n",
              "      <td>7.3614</td>\n",
              "      <td>7.6729</td>\n",
              "      <td>7.1971</td>\n",
              "      <td>7.6171</td>\n",
              "      <td>2.329456e+07</td>\n",
              "      <td>2010-01-06</td>\n",
              "    </tr>\n",
              "    <tr>\n",
              "      <th>2598</th>\n",
              "      <td>01/05/10</td>\n",
              "      <td>7.6529</td>\n",
              "      <td>7.6571</td>\n",
              "      <td>7.2586</td>\n",
              "      <td>7.3586</td>\n",
              "      <td>2.375344e+07</td>\n",
              "      <td>2010-01-05</td>\n",
              "    </tr>\n",
              "    <tr>\n",
              "      <th>2599</th>\n",
              "      <td>01/04/10</td>\n",
              "      <td>7.9314</td>\n",
              "      <td>7.9614</td>\n",
              "      <td>7.5657</td>\n",
              "      <td>7.6400</td>\n",
              "      <td>1.724008e+07</td>\n",
              "      <td>2010-01-04</td>\n",
              "    </tr>\n",
              "  </tbody>\n",
              "</table>\n",
              "<p>2600 rows × 7 columns</p>\n",
              "</div>"
            ],
            "text/plain": [
              "          Date      Open      High       Low     Close        Volume     Date_f\n",
              "0     05/01/20  415.1000  427.9700  411.7300  415.2700  8.299858e+06 2020-05-01\n",
              "1     04/30/20  410.3100  424.4400  408.0000  419.8500  7.953975e+06 2020-04-30\n",
              "2     04/29/20  399.5300  415.8600  393.6000  411.8900  9.693137e+06 2020-04-29\n",
              "3     04/28/20  419.9900  421.0000  402.9101  403.8300  1.010123e+07 2020-04-28\n",
              "4     04/27/20  425.0000  429.0000  420.8400  421.3800  6.277480e+06 2020-04-27\n",
              "...        ...       ...       ...       ...       ...           ...        ...\n",
              "2595  01/08/10    7.4986    7.7429    7.4657    7.6143  8.180697e+06 2010-01-08\n",
              "2596  01/07/10    7.7314    7.7571    7.4629    7.4857  9.955204e+06 2010-01-07\n",
              "2597  01/06/10    7.3614    7.6729    7.1971    7.6171  2.329456e+07 2010-01-06\n",
              "2598  01/05/10    7.6529    7.6571    7.2586    7.3586  2.375344e+07 2010-01-05\n",
              "2599  01/04/10    7.9314    7.9614    7.5657    7.6400  1.724008e+07 2010-01-04\n",
              "\n",
              "[2600 rows x 7 columns]"
            ]
          },
          "metadata": {
            "tags": []
          },
          "execution_count": 8
        }
      ]
    },
    {
      "cell_type": "code",
      "metadata": {
        "colab_type": "code",
        "id": "gRyiRCjFoUqh",
        "outputId": "87be8c15-2163-4619-a8cd-6f4732beacf6",
        "colab": {
          "base_uri": "https://localhost:8080/",
          "height": 632
        }
      },
      "source": [
        "Netflix.hist(figsize=(10,8), color = \"crimson\")"
      ],
      "execution_count": 9,
      "outputs": [
        {
          "output_type": "execute_result",
          "data": {
            "text/plain": [
              "array([[<matplotlib.axes._subplots.AxesSubplot object at 0x7fbe5cfc39e8>,\n",
              "        <matplotlib.axes._subplots.AxesSubplot object at 0x7fbe5cf96c88>],\n",
              "       [<matplotlib.axes._subplots.AxesSubplot object at 0x7fbe5cf4fef0>,\n",
              "        <matplotlib.axes._subplots.AxesSubplot object at 0x7fbe5cf0d198>],\n",
              "       [<matplotlib.axes._subplots.AxesSubplot object at 0x7fbe5cec0400>,\n",
              "        <matplotlib.axes._subplots.AxesSubplot object at 0x7fbe5cef5668>]],\n",
              "      dtype=object)"
            ]
          },
          "metadata": {
            "tags": []
          },
          "execution_count": 9
        },
        {
          "output_type": "display_data",
          "data": {
            "image/png": "[encoded data removed]",
            "text/plain": [
              "<Figure size 720x576 with 6 Axes>"
            ]
          },
          "metadata": {
            "tags": [],
            "needs_background": "light"
          }
        }
      ]
    },
    {
      "cell_type": "code",
      "metadata": {
        "colab_type": "code",
        "id": "r9zXZL4ko416",
        "outputId": "b45e6907-676b-44e2-9a7e-9ebbb6f1eb00",
        "colab": {
          "base_uri": "https://localhost:8080/",
          "height": 289
        }
      },
      "source": [
        "Netflix.set_index(['Date_f'])[' High'].plot(kind = 'line')"
      ],
      "execution_count": 10,
      "outputs": [
        {
          "output_type": "execute_result",
          "data": {
            "text/plain": [
              "<matplotlib.axes._subplots.AxesSubplot at 0x7fbe5d04db70>"
            ]
          },
          "metadata": {
            "tags": []
          },
          "execution_count": 10
        },
        {
          "output_type": "display_data",
          "data": {
            "image/png": "[encoded data removed]",
            "text/plain": [
              "<Figure size 432x288 with 1 Axes>"
            ]
          },
          "metadata": {
            "tags": [],
            "needs_background": "light"
          }
        }
      ]
    },
    {
      "cell_type": "code",
      "metadata": {
        "colab_type": "code",
        "id": "lrVi_g3ppd5y",
        "outputId": "a119f1bf-33e6-4efd-a488-58ae8f8dcaae",
        "colab": {
          "base_uri": "https://localhost:8080/",
          "height": 289
        }
      },
      "source": [
        "Netflix.set_index(['Date_f'])[' Low'].plot(kind = 'line')"
      ],
      "execution_count": 11,
      "outputs": [
        {
          "output_type": "execute_result",
          "data": {
            "text/plain": [
              "<matplotlib.axes._subplots.AxesSubplot at 0x7fbe5c8138d0>"
            ]
          },
          "metadata": {
            "tags": []
          },
          "execution_count": 11
        },
        {
          "output_type": "display_data",
          "data": {
            "image/png": "[encoded data removed]",
            "text/plain": [
              "<Figure size 432x288 with 1 Axes>"
            ]
          },
          "metadata": {
            "tags": [],
            "needs_background": "light"
          }
        }
      ]
    },
    {
      "cell_type": "code",
      "metadata": {
        "colab_type": "code",
        "id": "lGcslK2MpCwx",
        "outputId": "e158bace-d0bf-433b-dd0a-bb9884e3a197",
        "colab": {
          "base_uri": "https://localhost:8080/",
          "height": 289
        }
      },
      "source": [
        "Netflix.plot(x='Date_f',y=[' Open',' Close']).plot(kind = 'line')"
      ],
      "execution_count": 12,
      "outputs": [
        {
          "output_type": "execute_result",
          "data": {
            "text/plain": [
              "[]"
            ]
          },
          "metadata": {
            "tags": []
          },
          "execution_count": 12
        },
        {
          "output_type": "display_data",
          "data": {
            "image/png": "[encoded data removed]",
            "text/plain": [
              "<Figure size 432x288 with 1 Axes>"
            ]
          },
          "metadata": {
            "tags": [],
            "needs_background": "light"
          }
        }
      ]
    },
    {
      "cell_type": "code",
      "metadata": {
        "colab_type": "code",
        "id": "HAvGflWCpIh3",
        "outputId": "ebe1bb42-56d0-4946-9ff7-96a12eebdd12",
        "colab": {
          "base_uri": "https://localhost:8080/",
          "height": 300
        }
      },
      "source": [
        "Netflix.set_index(['Date_f'])[' Volume'].plot(kind = 'line')"
      ],
      "execution_count": 13,
      "outputs": [
        {
          "output_type": "execute_result",
          "data": {
            "text/plain": [
              "<matplotlib.axes._subplots.AxesSubplot at 0x7fbe5c72ddd8>"
            ]
          },
          "metadata": {
            "tags": []
          },
          "execution_count": 13
        },
        {
          "output_type": "display_data",
          "data": {
            "image/png": "[encoded data removed]",
            "text/plain": [
              "<Figure size 432x288 with 1 Axes>"
            ]
          },
          "metadata": {
            "tags": [],
            "needs_background": "light"
          }
        }
      ]
    },
    {
      "cell_type": "code",
      "metadata": {
        "id": "HJIXJiuAqS86",
        "colab_type": "code",
        "colab": {
          "base_uri": "https://localhost:8080/",
          "height": 119
        },
        "outputId": "2f369b0e-7e08-46b1-fb25-9bfdece71c2a"
      },
      "source": [
        "Netflix_df_num_corr = Netflix.corr()[' Close'][:-1] \n",
        "list = Netflix_df_num_corr[abs(Netflix_df_num_corr) > 0.5].sort_values(ascending=False)\n",
        "print(\"There is {} strongly correlated values with Close:\\n{}\".format(len(list), list))"
      ],
      "execution_count": 14,
      "outputs": [
        {
          "output_type": "stream",
          "text": [
            "There is 4 strongly correlated values with Close:\n",
            " Close    1.000000\n",
            " High     0.999782\n",
            " Low      0.999777\n",
            " Open     0.999528\n",
            "Name:  Close, dtype: float64\n"
          ],
          "name": "stdout"
        }
      ]
    },
    {
      "cell_type": "code",
      "metadata": {
        "id": "ybgy53-mqVjA",
        "colab_type": "code",
        "colab": {
          "base_uri": "https://localhost:8080/",
          "height": 397
        },
        "outputId": "29adcbd5-c030-4a8a-bf28-893f8c388e2f"
      },
      "source": [
        "for i in range(0, len(Netflix.columns), 5):\n",
        "    sns.pairplot(data=Netflix,\n",
        "                x_vars=Netflix.columns[i:i+5],\n",
        "                y_vars=[' Close'])"
      ],
      "execution_count": 15,
      "outputs": [
        {
          "output_type": "display_data",
          "data": {
            "image/png": "[encoded data removed]",
            "text/plain": [
              "<Figure size 900x180 with 5 Axes>"
            ]
          },
          "metadata": {
            "tags": [],
            "needs_background": "light"
          }
        },
        {
          "output_type": "display_data",
          "data": {
            "image/png": "[encoded data removed]",
            "text/plain": [
              "<Figure size 360x180 with 2 Axes>"
            ]
          },
          "metadata": {
            "tags": [],
            "needs_background": "light"
          }
        }
      ]
    },
    {
      "cell_type": "code",
      "metadata": {
        "colab_type": "code",
        "id": "bbVsT5hpnuNv",
        "outputId": "b0d0fb60-cf3b-4afb-919e-31de363d2756",
        "colab": {
          "base_uri": "https://localhost:8080/",
          "height": 235
        }
      },
      "source": [
        "Netflix_df = Netflix.dropna()\n",
        "Netflix_df = Netflix_df[['Date_f', ' Open', ' High', ' Low', ' Close']]\n",
        "Netflix_df.set_index(['Date_f'], inplace=True)\n",
        "Netflix_df.head()"
      ],
      "execution_count": 16,
      "outputs": [
        {
          "output_type": "execute_result",
          "data": {
            "text/html": [
              "<div>\n",
              "<style scoped>\n",
              "    .dataframe tbody tr th:only-of-type {\n",
              "        vertical-align: middle;\n",
              "    }\n",
              "\n",
              "    .dataframe tbody tr th {\n",
              "        vertical-align: top;\n",
              "    }\n",
              "\n",
              "    .dataframe thead th {\n",
              "        text-align: right;\n",
              "    }\n",
              "</style>\n",
              "<table border=\"1\" class=\"dataframe\">\n",
              "  <thead>\n",
              "    <tr style=\"text-align: right;\">\n",
              "      <th></th>\n",
              "      <th>Open</th>\n",
              "      <th>High</th>\n",
              "      <th>Low</th>\n",
              "      <th>Close</th>\n",
              "    </tr>\n",
              "    <tr>\n",
              "      <th>Date_f</th>\n",
              "      <th></th>\n",
              "      <th></th>\n",
              "      <th></th>\n",
              "      <th></th>\n",
              "    </tr>\n",
              "  </thead>\n",
              "  <tbody>\n",
              "    <tr>\n",
              "      <th>2020-05-01</th>\n",
              "      <td>415.10</td>\n",
              "      <td>427.97</td>\n",
              "      <td>411.7300</td>\n",
              "      <td>415.27</td>\n",
              "    </tr>\n",
              "    <tr>\n",
              "      <th>2020-04-30</th>\n",
              "      <td>410.31</td>\n",
              "      <td>424.44</td>\n",
              "      <td>408.0000</td>\n",
              "      <td>419.85</td>\n",
              "    </tr>\n",
              "    <tr>\n",
              "      <th>2020-04-29</th>\n",
              "      <td>399.53</td>\n",
              "      <td>415.86</td>\n",
              "      <td>393.6000</td>\n",
              "      <td>411.89</td>\n",
              "    </tr>\n",
              "    <tr>\n",
              "      <th>2020-04-28</th>\n",
              "      <td>419.99</td>\n",
              "      <td>421.00</td>\n",
              "      <td>402.9101</td>\n",
              "      <td>403.83</td>\n",
              "    </tr>\n",
              "    <tr>\n",
              "      <th>2020-04-27</th>\n",
              "      <td>425.00</td>\n",
              "      <td>429.00</td>\n",
              "      <td>420.8400</td>\n",
              "      <td>421.38</td>\n",
              "    </tr>\n",
              "  </tbody>\n",
              "</table>\n",
              "</div>"
            ],
            "text/plain": [
              "              Open    High       Low   Close\n",
              "Date_f                                      \n",
              "2020-05-01  415.10  427.97  411.7300  415.27\n",
              "2020-04-30  410.31  424.44  408.0000  419.85\n",
              "2020-04-29  399.53  415.86  393.6000  411.89\n",
              "2020-04-28  419.99  421.00  402.9101  403.83\n",
              "2020-04-27  425.00  429.00  420.8400  421.38"
            ]
          },
          "metadata": {
            "tags": []
          },
          "execution_count": 16
        }
      ]
    },
    {
      "cell_type": "code",
      "metadata": {
        "colab_type": "code",
        "id": "-tXgkMs0nz0C",
        "outputId": "6b8b18fb-8437-45b2-cb78-dad193784572",
        "colab": {
          "base_uri": "https://localhost:8080/",
          "height": 235
        }
      },
      "source": [
        "Netflix_df['Open-Close'] = Netflix_df[' Open'] - Netflix_df[' Close']\n",
        "Netflix_df['High-Low'] = Netflix_df[' High'] - Netflix_df[' Low']\n",
        "Netflix_df= Netflix_df.dropna()\n",
        "x= Netflix_df[['Open-Close', 'High-Low']]\n",
        "x.head()"
      ],
      "execution_count": 17,
      "outputs": [
        {
          "output_type": "execute_result",
          "data": {
            "text/html": [
              "<div>\n",
              "<style scoped>\n",
              "    .dataframe tbody tr th:only-of-type {\n",
              "        vertical-align: middle;\n",
              "    }\n",
              "\n",
              "    .dataframe tbody tr th {\n",
              "        vertical-align: top;\n",
              "    }\n",
              "\n",
              "    .dataframe thead th {\n",
              "        text-align: right;\n",
              "    }\n",
              "</style>\n",
              "<table border=\"1\" class=\"dataframe\">\n",
              "  <thead>\n",
              "    <tr style=\"text-align: right;\">\n",
              "      <th></th>\n",
              "      <th>Open-Close</th>\n",
              "      <th>High-Low</th>\n",
              "    </tr>\n",
              "    <tr>\n",
              "      <th>Date_f</th>\n",
              "      <th></th>\n",
              "      <th></th>\n",
              "    </tr>\n",
              "  </thead>\n",
              "  <tbody>\n",
              "    <tr>\n",
              "      <th>2020-05-01</th>\n",
              "      <td>-0.17</td>\n",
              "      <td>16.2400</td>\n",
              "    </tr>\n",
              "    <tr>\n",
              "      <th>2020-04-30</th>\n",
              "      <td>-9.54</td>\n",
              "      <td>16.4400</td>\n",
              "    </tr>\n",
              "    <tr>\n",
              "      <th>2020-04-29</th>\n",
              "      <td>-12.36</td>\n",
              "      <td>22.2600</td>\n",
              "    </tr>\n",
              "    <tr>\n",
              "      <th>2020-04-28</th>\n",
              "      <td>16.16</td>\n",
              "      <td>18.0899</td>\n",
              "    </tr>\n",
              "    <tr>\n",
              "      <th>2020-04-27</th>\n",
              "      <td>3.62</td>\n",
              "      <td>8.1600</td>\n",
              "    </tr>\n",
              "  </tbody>\n",
              "</table>\n",
              "</div>"
            ],
            "text/plain": [
              "            Open-Close  High-Low\n",
              "Date_f                          \n",
              "2020-05-01       -0.17   16.2400\n",
              "2020-04-30       -9.54   16.4400\n",
              "2020-04-29      -12.36   22.2600\n",
              "2020-04-28       16.16   18.0899\n",
              "2020-04-27        3.62    8.1600"
            ]
          },
          "metadata": {
            "tags": []
          },
          "execution_count": 17
        }
      ]
    },
    {
      "cell_type": "code",
      "metadata": {
        "colab_type": "code",
        "id": "ZMKQOdXVfCIS",
        "outputId": "97845de7-869f-4305-d1ca-dfd79f1dbf23",
        "colab": {
          "base_uri": "https://localhost:8080/",
          "height": 235
        }
      },
      "source": [
        "x.tail()"
      ],
      "execution_count": 18,
      "outputs": [
        {
          "output_type": "execute_result",
          "data": {
            "text/html": [
              "<div>\n",
              "<style scoped>\n",
              "    .dataframe tbody tr th:only-of-type {\n",
              "        vertical-align: middle;\n",
              "    }\n",
              "\n",
              "    .dataframe tbody tr th {\n",
              "        vertical-align: top;\n",
              "    }\n",
              "\n",
              "    .dataframe thead th {\n",
              "        text-align: right;\n",
              "    }\n",
              "</style>\n",
              "<table border=\"1\" class=\"dataframe\">\n",
              "  <thead>\n",
              "    <tr style=\"text-align: right;\">\n",
              "      <th></th>\n",
              "      <th>Open-Close</th>\n",
              "      <th>High-Low</th>\n",
              "    </tr>\n",
              "    <tr>\n",
              "      <th>Date_f</th>\n",
              "      <th></th>\n",
              "      <th></th>\n",
              "    </tr>\n",
              "  </thead>\n",
              "  <tbody>\n",
              "    <tr>\n",
              "      <th>2010-01-08</th>\n",
              "      <td>-0.1157</td>\n",
              "      <td>0.2772</td>\n",
              "    </tr>\n",
              "    <tr>\n",
              "      <th>2010-01-07</th>\n",
              "      <td>0.2457</td>\n",
              "      <td>0.2942</td>\n",
              "    </tr>\n",
              "    <tr>\n",
              "      <th>2010-01-06</th>\n",
              "      <td>-0.2557</td>\n",
              "      <td>0.4758</td>\n",
              "    </tr>\n",
              "    <tr>\n",
              "      <th>2010-01-05</th>\n",
              "      <td>0.2943</td>\n",
              "      <td>0.3985</td>\n",
              "    </tr>\n",
              "    <tr>\n",
              "      <th>2010-01-04</th>\n",
              "      <td>0.2914</td>\n",
              "      <td>0.3957</td>\n",
              "    </tr>\n",
              "  </tbody>\n",
              "</table>\n",
              "</div>"
            ],
            "text/plain": [
              "            Open-Close  High-Low\n",
              "Date_f                          \n",
              "2010-01-08     -0.1157    0.2772\n",
              "2010-01-07      0.2457    0.2942\n",
              "2010-01-06     -0.2557    0.4758\n",
              "2010-01-05      0.2943    0.3985\n",
              "2010-01-04      0.2914    0.3957"
            ]
          },
          "metadata": {
            "tags": []
          },
          "execution_count": 18
        }
      ]
    },
    {
      "cell_type": "code",
      "metadata": {
        "colab_type": "code",
        "id": "kiHVEy6ULOcO",
        "outputId": "84bc18eb-886e-4fd5-b7ce-ffef28df6a13",
        "colab": {
          "base_uri": "https://localhost:8080/",
          "height": 450
        }
      },
      "source": [
        "y= np.where(Netflix_df[' Close'].shift(-1)> Netflix_df[' Close'], 1, -1)\n",
        "x"
      ],
      "execution_count": 19,
      "outputs": [
        {
          "output_type": "execute_result",
          "data": {
            "text/html": [
              "<div>\n",
              "<style scoped>\n",
              "    .dataframe tbody tr th:only-of-type {\n",
              "        vertical-align: middle;\n",
              "    }\n",
              "\n",
              "    .dataframe tbody tr th {\n",
              "        vertical-align: top;\n",
              "    }\n",
              "\n",
              "    .dataframe thead th {\n",
              "        text-align: right;\n",
              "    }\n",
              "</style>\n",
              "<table border=\"1\" class=\"dataframe\">\n",
              "  <thead>\n",
              "    <tr style=\"text-align: right;\">\n",
              "      <th></th>\n",
              "      <th>Open-Close</th>\n",
              "      <th>High-Low</th>\n",
              "    </tr>\n",
              "    <tr>\n",
              "      <th>Date_f</th>\n",
              "      <th></th>\n",
              "      <th></th>\n",
              "    </tr>\n",
              "  </thead>\n",
              "  <tbody>\n",
              "    <tr>\n",
              "      <th>2020-05-01</th>\n",
              "      <td>-0.1700</td>\n",
              "      <td>16.2400</td>\n",
              "    </tr>\n",
              "    <tr>\n",
              "      <th>2020-04-30</th>\n",
              "      <td>-9.5400</td>\n",
              "      <td>16.4400</td>\n",
              "    </tr>\n",
              "    <tr>\n",
              "      <th>2020-04-29</th>\n",
              "      <td>-12.3600</td>\n",
              "      <td>22.2600</td>\n",
              "    </tr>\n",
              "    <tr>\n",
              "      <th>2020-04-28</th>\n",
              "      <td>16.1600</td>\n",
              "      <td>18.0899</td>\n",
              "    </tr>\n",
              "    <tr>\n",
              "      <th>2020-04-27</th>\n",
              "      <td>3.6200</td>\n",
              "      <td>8.1600</td>\n",
              "    </tr>\n",
              "    <tr>\n",
              "      <th>...</th>\n",
              "      <td>...</td>\n",
              "      <td>...</td>\n",
              "    </tr>\n",
              "    <tr>\n",
              "      <th>2010-01-08</th>\n",
              "      <td>-0.1157</td>\n",
              "      <td>0.2772</td>\n",
              "    </tr>\n",
              "    <tr>\n",
              "      <th>2010-01-07</th>\n",
              "      <td>0.2457</td>\n",
              "      <td>0.2942</td>\n",
              "    </tr>\n",
              "    <tr>\n",
              "      <th>2010-01-06</th>\n",
              "      <td>-0.2557</td>\n",
              "      <td>0.4758</td>\n",
              "    </tr>\n",
              "    <tr>\n",
              "      <th>2010-01-05</th>\n",
              "      <td>0.2943</td>\n",
              "      <td>0.3985</td>\n",
              "    </tr>\n",
              "    <tr>\n",
              "      <th>2010-01-04</th>\n",
              "      <td>0.2914</td>\n",
              "      <td>0.3957</td>\n",
              "    </tr>\n",
              "  </tbody>\n",
              "</table>\n",
              "<p>2600 rows × 2 columns</p>\n",
              "</div>"
            ],
            "text/plain": [
              "            Open-Close  High-Low\n",
              "Date_f                          \n",
              "2020-05-01     -0.1700   16.2400\n",
              "2020-04-30     -9.5400   16.4400\n",
              "2020-04-29    -12.3600   22.2600\n",
              "2020-04-28     16.1600   18.0899\n",
              "2020-04-27      3.6200    8.1600\n",
              "...                ...       ...\n",
              "2010-01-08     -0.1157    0.2772\n",
              "2010-01-07      0.2457    0.2942\n",
              "2010-01-06     -0.2557    0.4758\n",
              "2010-01-05      0.2943    0.3985\n",
              "2010-01-04      0.2914    0.3957\n",
              "\n",
              "[2600 rows x 2 columns]"
            ]
          },
          "metadata": {
            "tags": []
          },
          "execution_count": 19
        }
      ]
    },
    {
      "cell_type": "code",
      "metadata": {
        "colab_type": "code",
        "id": "WfLpQOIQLsHr",
        "outputId": "382a420b-23c3-46a4-d563-2c8880b04622",
        "colab": {
          "base_uri": "https://localhost:8080/",
          "height": 450
        }
      },
      "source": [
        "split_percentage= 0.7\n",
        "split= int(split_percentage*len(Netflix_df))\n",
        "\n",
        "x_train= x[-split:]\n",
        "y_train= y[-split:]\n",
        "\n",
        "x_test= x[:-split]\n",
        "y_test= y[:-split]\n",
        "x_test"
      ],
      "execution_count": 20,
      "outputs": [
        {
          "output_type": "execute_result",
          "data": {
            "text/html": [
              "<div>\n",
              "<style scoped>\n",
              "    .dataframe tbody tr th:only-of-type {\n",
              "        vertical-align: middle;\n",
              "    }\n",
              "\n",
              "    .dataframe tbody tr th {\n",
              "        vertical-align: top;\n",
              "    }\n",
              "\n",
              "    .dataframe thead th {\n",
              "        text-align: right;\n",
              "    }\n",
              "</style>\n",
              "<table border=\"1\" class=\"dataframe\">\n",
              "  <thead>\n",
              "    <tr style=\"text-align: right;\">\n",
              "      <th></th>\n",
              "      <th>Open-Close</th>\n",
              "      <th>High-Low</th>\n",
              "    </tr>\n",
              "    <tr>\n",
              "      <th>Date_f</th>\n",
              "      <th></th>\n",
              "      <th></th>\n",
              "    </tr>\n",
              "  </thead>\n",
              "  <tbody>\n",
              "    <tr>\n",
              "      <th>2020-05-01</th>\n",
              "      <td>-0.17</td>\n",
              "      <td>16.2400</td>\n",
              "    </tr>\n",
              "    <tr>\n",
              "      <th>2020-04-30</th>\n",
              "      <td>-9.54</td>\n",
              "      <td>16.4400</td>\n",
              "    </tr>\n",
              "    <tr>\n",
              "      <th>2020-04-29</th>\n",
              "      <td>-12.36</td>\n",
              "      <td>22.2600</td>\n",
              "    </tr>\n",
              "    <tr>\n",
              "      <th>2020-04-28</th>\n",
              "      <td>16.16</td>\n",
              "      <td>18.0899</td>\n",
              "    </tr>\n",
              "    <tr>\n",
              "      <th>2020-04-27</th>\n",
              "      <td>3.62</td>\n",
              "      <td>8.1600</td>\n",
              "    </tr>\n",
              "    <tr>\n",
              "      <th>...</th>\n",
              "      <td>...</td>\n",
              "      <td>...</td>\n",
              "    </tr>\n",
              "    <tr>\n",
              "      <th>2017-03-31</th>\n",
              "      <td>0.19</td>\n",
              "      <td>0.8950</td>\n",
              "    </tr>\n",
              "    <tr>\n",
              "      <th>2017-03-30</th>\n",
              "      <td>-1.25</td>\n",
              "      <td>1.7600</td>\n",
              "    </tr>\n",
              "    <tr>\n",
              "      <th>2017-03-29</th>\n",
              "      <td>-0.97</td>\n",
              "      <td>2.2711</td>\n",
              "    </tr>\n",
              "    <tr>\n",
              "      <th>2017-03-28</th>\n",
              "      <td>-1.07</td>\n",
              "      <td>2.1900</td>\n",
              "    </tr>\n",
              "    <tr>\n",
              "      <th>2017-03-27</th>\n",
              "      <td>-3.23</td>\n",
              "      <td>4.3900</td>\n",
              "    </tr>\n",
              "  </tbody>\n",
              "</table>\n",
              "<p>781 rows × 2 columns</p>\n",
              "</div>"
            ],
            "text/plain": [
              "            Open-Close  High-Low\n",
              "Date_f                          \n",
              "2020-05-01       -0.17   16.2400\n",
              "2020-04-30       -9.54   16.4400\n",
              "2020-04-29      -12.36   22.2600\n",
              "2020-04-28       16.16   18.0899\n",
              "2020-04-27        3.62    8.1600\n",
              "...                ...       ...\n",
              "2017-03-31        0.19    0.8950\n",
              "2017-03-30       -1.25    1.7600\n",
              "2017-03-29       -0.97    2.2711\n",
              "2017-03-28       -1.07    2.1900\n",
              "2017-03-27       -3.23    4.3900\n",
              "\n",
              "[781 rows x 2 columns]"
            ]
          },
          "metadata": {
            "tags": []
          },
          "execution_count": 20
        }
      ]
    },
    {
      "cell_type": "code",
      "metadata": {
        "colab_type": "code",
        "id": "2hLLkX8ObWCB",
        "colab": {}
      },
      "source": [
        "test_scores = []\n",
        "train_scores = []\n",
        "\n",
        "for i in range(1,15):\n",
        "    knn = KNeighborsClassifier(i)\n",
        "    knn.fit(x_train,y_train)\n",
        "    train_scores.append(knn.score(x_train,y_train))\n",
        "    test_scores.append(knn.score(x_test,y_test))"
      ],
      "execution_count": 0,
      "outputs": []
    },
    {
      "cell_type": "code",
      "metadata": {
        "colab_type": "code",
        "id": "HuyxQiNVbgsv",
        "outputId": "74064e9c-3191-43e3-8826-d338792d548f",
        "colab": {
          "base_uri": "https://localhost:8080/",
          "height": 71
        }
      },
      "source": [
        "print(train_scores)\n",
        "print(test_scores)"
      ],
      "execution_count": 22,
      "outputs": [
        {
          "output_type": "stream",
          "text": [
            "[1.0, 0.9021440351841671, 0.8982957669048928, 0.880153930731171, 0.8851017042330951, 0.8763056624518967, 0.8763056624518967, 0.8746564046179219, 0.8752061572292469, 0.8746564046179219, 0.880153930731171, 0.8735568993952721, 0.8768554150632215, 0.8735568993952721]\n",
            "[0.8271446862996159, 0.8476312419974392, 0.8553137003841229, 0.8629961587708067, 0.8693982074263764, 0.8719590268886044, 0.8745198463508322, 0.8719590268886044, 0.8655569782330346, 0.8668373879641486, 0.8693982074263764, 0.8681177976952625, 0.8668373879641486, 0.8681177976952625]\n"
          ],
          "name": "stdout"
        }
      ]
    },
    {
      "cell_type": "code",
      "metadata": {
        "colab_type": "code",
        "id": "oaevb4vlTPUj",
        "outputId": "21b3fdf9-9a59-4d46-a706-9a7322163bbb",
        "colab": {
          "base_uri": "https://localhost:8080/",
          "height": 51
        }
      },
      "source": [
        "#In case of classifier like knn the parameter to be tuned is n_neighbors\n",
        "param_grid = {'n_neighbors':np.arange(1,70)}\n",
        "knn = KNeighborsClassifier()\n",
        "knn_cv= GridSearchCV(knn,param_grid,cv=10)\n",
        "knn_cv.fit(x_train,y_train)\n",
        "\n",
        "print(\"Best Score:\" + str(knn_cv.best_score_))\n",
        "print(\"Best Parameters: \" + str(knn_cv.best_params_))"
      ],
      "execution_count": 24,
      "outputs": [
        {
          "output_type": "stream",
          "text": [
            "Best Score:0.8680802622791572\n",
            "Best Parameters: {'n_neighbors': 47}\n"
          ],
          "name": "stdout"
        }
      ]
    },
    {
      "cell_type": "code",
      "metadata": {
        "colab_type": "code",
        "id": "VlwI2sWlcbFA",
        "outputId": "11047a0f-df9a-4f70-d3ee-fedf15c0db5b",
        "colab": {
          "base_uri": "https://localhost:8080/",
          "height": 322
        }
      },
      "source": [
        "sns.set()\n",
        "plt.figure(figsize=(12,5))\n",
        "p = sns.lineplot(range(1,15),train_scores,marker='*',label='Train Score')\n",
        "p = sns.lineplot(range(1,15),test_scores,marker='o',label='Test Score')"
      ],
      "execution_count": 25,
      "outputs": [
        {
          "output_type": "display_data",
          "data": {
            "image/png": "[encoded data removed]",
            "text/plain": [
              "<Figure size 864x360 with 1 Axes>"
            ]
          },
          "metadata": {
            "tags": []
          }
        }
      ]
    },
    {
      "cell_type": "code",
      "metadata": {
        "colab_type": "code",
        "id": "Wvn5n4tUcIJX",
        "outputId": "51983d73-ffa2-495e-c2f3-3db54dfe28c1",
        "colab": {
          "base_uri": "https://localhost:8080/",
          "height": 34
        }
      },
      "source": [
        "knn = KNeighborsClassifier(7)\n",
        "\n",
        "knn.fit(x_train,y_train)\n",
        "knn.score(x_test,y_test)"
      ],
      "execution_count": 26,
      "outputs": [
        {
          "output_type": "execute_result",
          "data": {
            "text/plain": [
              "0.8745198463508322"
            ]
          },
          "metadata": {
            "tags": []
          },
          "execution_count": 26
        }
      ]
    },
    {
      "cell_type": "code",
      "metadata": {
        "colab_type": "code",
        "id": "pA6jKma_ToB_",
        "outputId": "f0587f9b-7d3f-4c2a-b40a-97ab37adc6fc",
        "colab": {
          "base_uri": "https://localhost:8080/",
          "height": 238
        }
      },
      "source": [
        "Netflix_df['Predicted']= knn.predict(x)\n",
        "Netflix_df['Netflix_Returns']= np.log(Netflix_df[' Close'] / Netflix_df[' Close'].shift(1))\n",
        "Cummulative_Netflix_Returns= Netflix_df[:-split]['Netflix_Returns'].cumsum()*100\n",
        "\n",
        "Netflix_df['Strategy_Returns']= Netflix_df['Netflix_Returns'] * Netflix_df['Predicted'].shift(1)\n",
        "Cummulative_Strategy_Returns= Netflix_df[:-split]['Strategy_Returns'].cumsum()*100\n",
        "\n",
        "Cummulative_Strategy_Returns"
      ],
      "execution_count": 27,
      "outputs": [
        {
          "output_type": "execute_result",
          "data": {
            "text/plain": [
              "Date_f\n",
              "2020-05-01            NaN\n",
              "2020-04-30       1.096859\n",
              "2020-04-29       3.010977\n",
              "2020-04-28       4.987210\n",
              "2020-04-27       9.241314\n",
              "                 ...     \n",
              "2017-03-31    1222.648950\n",
              "2017-03-30    1222.817943\n",
              "2017-03-29    1223.897640\n",
              "2017-03-28    1224.789156\n",
              "2017-03-27    1225.556715\n",
              "Name: Strategy_Returns, Length: 781, dtype: float64"
            ]
          },
          "metadata": {
            "tags": []
          },
          "execution_count": 27
        }
      ]
    },
    {
      "cell_type": "code",
      "metadata": {
        "id": "KbK7LOMQdwjv",
        "colab_type": "code",
        "outputId": "6b3e17f0-09fd-43b4-95a7-ab6b4a4e474e",
        "colab": {
          "base_uri": "https://localhost:8080/",
          "height": 365
        }
      },
      "source": [
        "plt.figure(figsize=(10,5))\n",
        "plt.plot(Cummulative_Netflix_Returns, color='r', label= 'Netflix_Returns')\n",
        "plt.plot(Cummulative_Strategy_Returns, color='b', label='Strategy_Returns')\n",
        "plt.legend()\n",
        "plt.tight_layout()\n",
        "plt.show()"
      ],
      "execution_count": 28,
      "outputs": [
        {
          "output_type": "display_data",
          "data": {
            "image/png": "[encoded data removed]",
            "text/plain": [
              "<Figure size 720x360 with 1 Axes>"
            ]
          },
          "metadata": {
            "tags": []
          }
        }
      ]
    },
    {
      "cell_type": "code",
      "metadata": {
        "colab_type": "code",
        "id": "t_mGO7YMun4s",
        "outputId": "7f02ba83-cbdf-4f5d-ede7-93b72bbc5b22",
        "colab": {
          "base_uri": "https://localhost:8080/",
          "height": 34
        }
      },
      "source": [
        "y_test_pad = np.pad(y_test, (0, len(knn.predict(x))-len(y_test)), 'constant')\n",
        "len(y_test_pad)"
      ],
      "execution_count": 29,
      "outputs": [
        {
          "output_type": "execute_result",
          "data": {
            "text/plain": [
              "2600"
            ]
          },
          "metadata": {
            "tags": []
          },
          "execution_count": 29
        }
      ]
    },
    {
      "cell_type": "code",
      "metadata": {
        "id": "2jLSDb-Edwj2",
        "colab_type": "code",
        "outputId": "a4d40178-11f5-472f-abb0-3a2c3c703e53",
        "colab": {
          "base_uri": "https://localhost:8080/",
          "height": 34
        }
      },
      "source": [
        "rms=np.sqrt(np.mean(np.power((y_test_pad-np.array(knn.predict(x))),2)))\n",
        "rms"
      ],
      "execution_count": 30,
      "outputs": [
        {
          "output_type": "execute_result",
          "data": {
            "text/plain": [
              "0.9221630091174854"
            ]
          },
          "metadata": {
            "tags": []
          },
          "execution_count": 30
        }
      ]
    },
    {
      "cell_type": "code",
      "metadata": {
        "id": "NA8Wxg-iyTeQ",
        "colab_type": "code",
        "colab": {
          "base_uri": "https://localhost:8080/",
          "height": 173
        },
        "outputId": "c174881d-03eb-4800-f39c-66fb1bc9572c"
      },
      "source": [
        "from sklearn.metrics import confusion_matrix\n",
        "#let us get the predictions using the classifier we had fit above. Creating the confusion Matrix\n",
        "y_pred = knn.predict(x_test)\n",
        "y_pred\n",
        "confusion_matrix(y_test,y_pred)\n",
        "pd.crosstab(y_test, y_pred, rownames=['True'], colnames=['Predicted'], margins=True)"
      ],
      "execution_count": 31,
      "outputs": [
        {
          "output_type": "execute_result",
          "data": {
            "text/html": [
              "<div>\n",
              "<style scoped>\n",
              "    .dataframe tbody tr th:only-of-type {\n",
              "        vertical-align: middle;\n",
              "    }\n",
              "\n",
              "    .dataframe tbody tr th {\n",
              "        vertical-align: top;\n",
              "    }\n",
              "\n",
              "    .dataframe thead th {\n",
              "        text-align: right;\n",
              "    }\n",
              "</style>\n",
              "<table border=\"1\" class=\"dataframe\">\n",
              "  <thead>\n",
              "    <tr style=\"text-align: right;\">\n",
              "      <th>Predicted</th>\n",
              "      <th>-1</th>\n",
              "      <th>1</th>\n",
              "      <th>All</th>\n",
              "    </tr>\n",
              "    <tr>\n",
              "      <th>True</th>\n",
              "      <th></th>\n",
              "      <th></th>\n",
              "      <th></th>\n",
              "    </tr>\n",
              "  </thead>\n",
              "  <tbody>\n",
              "    <tr>\n",
              "      <th>-1</th>\n",
              "      <td>351</td>\n",
              "      <td>51</td>\n",
              "      <td>402</td>\n",
              "    </tr>\n",
              "    <tr>\n",
              "      <th>1</th>\n",
              "      <td>47</td>\n",
              "      <td>332</td>\n",
              "      <td>379</td>\n",
              "    </tr>\n",
              "    <tr>\n",
              "      <th>All</th>\n",
              "      <td>398</td>\n",
              "      <td>383</td>\n",
              "      <td>781</td>\n",
              "    </tr>\n",
              "  </tbody>\n",
              "</table>\n",
              "</div>"
            ],
            "text/plain": [
              "Predicted   -1    1  All\n",
              "True                    \n",
              "-1         351   51  402\n",
              "1           47  332  379\n",
              "All        398  383  781"
            ]
          },
          "metadata": {
            "tags": []
          },
          "execution_count": 31
        }
      ]
    },
    {
      "cell_type": "code",
      "metadata": {
        "id": "_8lMTnpOypvu",
        "colab_type": "code",
        "colab": {
          "base_uri": "https://localhost:8080/",
          "height": 318
        },
        "outputId": "b921d648-6c39-45ab-b7cb-ee5578e5c846"
      },
      "source": [
        "y_pred = knn.predict(x_test)\n",
        "from sklearn import metrics\n",
        "cnf_matrix = metrics.confusion_matrix(y_test, y_pred)\n",
        "p = sns.heatmap(pd.DataFrame(cnf_matrix), annot=True, cmap=\"gist_heat\" ,fmt='g')\n",
        "plt.title('Confusion matrix', y=1.1)\n",
        "plt.ylabel('Actual ')\n",
        "plt.xlabel('Predicted ')"
      ],
      "execution_count": 32,
      "outputs": [
        {
          "output_type": "execute_result",
          "data": {
            "text/plain": [
              "Text(0.5, 12.5, 'Predicted ')"
            ]
          },
          "metadata": {
            "tags": []
          },
          "execution_count": 32
        },
        {
          "output_type": "display_data",
          "data": {
            "image/png": "[encoded data removed]",
            "text/plain": [
              "<Figure size 432x288 with 2 Axes>"
            ]
          },
          "metadata": {
            "tags": []
          }
        }
      ]
    }
  ]
}